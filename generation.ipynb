import random
import string

def generate_random_text(length=10):
    return ''.join(random.choices(string.ascii_letters + string.digits, k=length))

print(generate_random_text(20))  # Generates a random text of length 20
